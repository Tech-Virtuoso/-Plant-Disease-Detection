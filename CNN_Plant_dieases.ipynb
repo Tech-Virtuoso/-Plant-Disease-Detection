{
  "cells": [
    {
      "cell_type": "code",
      "source": [
        "from google.colab import drive\n",
        "drive.mount('/content/drive')"
      ],
      "metadata": {
        "colab": {
          "base_uri": "https://localhost:8080/"
        },
        "id": "xTpBDJPrpNPQ",
        "outputId": "14be51cb-5f58-4abd-cd2c-0d0697ec2481"
      },
      "id": "xTpBDJPrpNPQ",
      "execution_count": 18,
      "outputs": [
        {
          "output_type": "stream",
          "name": "stdout",
          "text": [
            "Drive already mounted at /content/drive; to attempt to forcibly remount, call drive.mount(\"/content/drive\", force_remount=True).\n"
          ]
        }
      ]
    },
    {
      "cell_type": "code",
      "execution_count": 19,
      "id": "4b84372f-8120-4c4a-b151-3a2a694e1bd3",
      "metadata": {
        "id": "4b84372f-8120-4c4a-b151-3a2a694e1bd3"
      },
      "outputs": [],
      "source": [
        "test_dir= \"/content/drive/MyDrive/Datasets/Plant dieases/Test/Test\"\n",
        "train_dir=\"/content/drive/MyDrive/Datasets/Plant dieases/Train/Train\"\n",
        "val_dir=\"/content/drive/MyDrive/Datasets/Plant dieases/Validation/Validation\""
      ]
    },
    {
      "cell_type": "code",
      "execution_count": 20,
      "id": "d9a5b160-d832-4dcc-abf2-81ed8424cef8",
      "metadata": {
        "id": "d9a5b160-d832-4dcc-abf2-81ed8424cef8"
      },
      "outputs": [],
      "source": [
        "import tensorflow as tf"
      ]
    },
    {
      "cell_type": "code",
      "execution_count": 21,
      "id": "75d1875c-f03c-41fd-9bf0-1c28f02e5c40",
      "metadata": {
        "colab": {
          "base_uri": "https://localhost:8080/"
        },
        "id": "75d1875c-f03c-41fd-9bf0-1c28f02e5c40",
        "outputId": "94c57b08-a6af-4294-f8df-215accae1e86"
      },
      "outputs": [
        {
          "output_type": "stream",
          "name": "stdout",
          "text": [
            "Found 1322 files belonging to 3 classes.\n"
          ]
        }
      ],
      "source": [
        "# Creating a Dataset for the Training data\n",
        "train = tf.keras.utils.image_dataset_from_directory(\n",
        "    train_dir,  # Directory where the Training images are located\n",
        "    labels = 'inferred', # Classes will be inferred according to the structure of the directory\n",
        "    label_mode = 'categorical',\n",
        "    class_names = ['Healthy', 'Powdery', 'Rust'],\n",
        "    batch_size = 16,    # Number of processed samples before updating the model's weights\n",
        "    image_size = (256, 256), # Defining a fixed dimension for all images\n",
        "    shuffle = True,  # Shuffling data\n",
        "    seed = 42,  # Random seed for shuffling and transformations\n",
        "    validation_split = 0, # We don't need to create a validation set from the training set\n",
        "    crop_to_aspect_ratio = True # Resize images without aspect ratio distortion\n",
        ")"
      ]
    },
    {
      "cell_type": "code",
      "source": [],
      "metadata": {
        "id": "be01f0LypLfy"
      },
      "id": "be01f0LypLfy",
      "execution_count": 21,
      "outputs": []
    },
    {
      "cell_type": "code",
      "execution_count": 22,
      "id": "3fa7820d-c7cd-49e6-a4ae-4a83538cbc4e",
      "metadata": {
        "colab": {
          "base_uri": "https://localhost:8080/"
        },
        "id": "3fa7820d-c7cd-49e6-a4ae-4a83538cbc4e",
        "outputId": "8a062e5b-4211-4919-e1e9-f7dc018dc1ab"
      },
      "outputs": [
        {
          "output_type": "stream",
          "name": "stdout",
          "text": [
            "Found 150 files belonging to 3 classes.\n"
          ]
        }
      ],
      "source": [
        "# Creating a dataset for the Test data\n",
        "test = tf.keras.utils.image_dataset_from_directory(\n",
        "    test_dir,\n",
        "    labels = 'inferred',\n",
        "    label_mode = 'categorical',\n",
        "    class_names = ['Healthy', 'Powdery', 'Rust'],\n",
        "    batch_size = 16,\n",
        "    image_size = (256, 256),\n",
        "    shuffle = True,\n",
        "    seed = 42,\n",
        "    validation_split = 0,\n",
        "    crop_to_aspect_ratio = True\n",
        ")"
      ]
    },
    {
      "cell_type": "code",
      "execution_count": 23,
      "id": "bdc50951-ba39-4289-8370-e6805aa1c8e2",
      "metadata": {
        "colab": {
          "base_uri": "https://localhost:8080/"
        },
        "id": "bdc50951-ba39-4289-8370-e6805aa1c8e2",
        "outputId": "7e49433b-73c7-4d92-f165-8cf65d9eedb4"
      },
      "outputs": [
        {
          "output_type": "stream",
          "name": "stdout",
          "text": [
            "Found 60 files belonging to 3 classes.\n"
          ]
        }
      ],
      "source": [
        "# Creating a dataset for the Test data\n",
        "validation = tf.keras.utils.image_dataset_from_directory(\n",
        "    val_dir,\n",
        "    labels = 'inferred',\n",
        "    label_mode = 'categorical',\n",
        "    class_names = ['Healthy', 'Powdery', 'Rust'],\n",
        "    batch_size = 16,\n",
        "    image_size = (256, 256),\n",
        "    shuffle = True,\n",
        "    seed = 42,\n",
        "    validation_split = 0,\n",
        "    crop_to_aspect_ratio = True\n",
        ")"
      ]
    },
    {
      "cell_type": "code",
      "execution_count": 24,
      "id": "85015897-d1d6-414e-aa31-055a27e206d1",
      "metadata": {
        "colab": {
          "base_uri": "https://localhost:8080/"
        },
        "id": "85015897-d1d6-414e-aa31-055a27e206d1",
        "outputId": "dc6974ca-11b8-4bbb-aa5d-0ae4188a6aea"
      },
      "outputs": [
        {
          "output_type": "stream",
          "name": "stdout",
          "text": [
            "\n",
            "Training Dataset: <_PrefetchDataset element_spec=(TensorSpec(shape=(None, 256, 256, 3), dtype=tf.uint8, name=None), TensorSpec(shape=(None, 3), dtype=tf.float32, name=None))>\n",
            "\n",
            "Testing Dataset: <_PrefetchDataset element_spec=(TensorSpec(shape=(None, 256, 256, 3), dtype=tf.uint8, name=None), TensorSpec(shape=(None, 3), dtype=tf.float32, name=None))>\n",
            "\n",
            "Validation Dataset: <_PrefetchDataset element_spec=(TensorSpec(shape=(None, 256, 256, 3), dtype=tf.uint8, name=None), TensorSpec(shape=(None, 3), dtype=tf.float32, name=None))>\n"
          ]
        }
      ],
      "source": [
        "print('\\nTraining Dataset:', train)\n",
        "print('\\nTesting Dataset:', test)\n",
        "print('\\nValidation Dataset:', validation)"
      ]
    },
    {
      "cell_type": "code",
      "execution_count": 25,
      "id": "bf748398-3a39-460d-884e-c325885dd1a2",
      "metadata": {
        "id": "bf748398-3a39-460d-884e-c325885dd1a2"
      },
      "outputs": [],
      "source": [
        "\n",
        "\n",
        "scaler = tf.keras.layers.Rescaling(1./255) # Defining scaler values between 0 to 1\n",
        "# Rescaling datasets\n",
        "train = train.map(lambda x, y: (scaler(x), y))\n",
        "test = test.map(lambda x, y: (scaler(x), y))\n",
        "validation = validation.map(lambda x, y: (scaler(x), y))"
      ]
    },
    {
      "cell_type": "code",
      "execution_count": 26,
      "id": "e5f7c5e3-e379-48db-a454-fac8a1041b66",
      "metadata": {
        "id": "e5f7c5e3-e379-48db-a454-fac8a1041b66"
      },
      "outputs": [],
      "source": [
        "seed=42\n",
        "# Creating data augmentation pipeline\n",
        "augmentation = tf.keras.Sequential(\n",
        "    [\n",
        "        tf.keras.layers.RandomRotation(\n",
        "        factor = (-.25, .3),\n",
        "        fill_mode = 'reflect',\n",
        "        interpolation = 'bilinear',\n",
        "        seed = seed),\n",
        "\n",
        "\n",
        "        tf.keras.layers.RandomBrightness(\n",
        "        factor = (-.45, .45),\n",
        "        value_range = (0.0, 1.0),\n",
        "        seed = seed),\n",
        "\n",
        "        tf.keras.layers.RandomContrast(\n",
        "        factor = (.5),\n",
        "        seed = seed)\n",
        "    ]\n",
        ")"
      ]
    },
    {
      "cell_type": "code",
      "source": [
        "from tensorflow.keras.models import Sequential\n",
        "from tensorflow.keras.layers import Conv2D, Activation, BatchNormalization, MaxPooling2D, Dropout, Flatten, Dense\n",
        "\n",
        "# Initiating model without strategy.scope()\n",
        "model = Sequential()\n",
        "model.add(augmentation)  # Assuming you defined an augmentation layer earlier\n",
        "\n",
        "# Feature Learning Layers\n",
        "model.add(Conv2D(32,                  # Number of filters/Kernels\n",
        "                 (3,3),               # Size of kernels (3x3 matrix)\n",
        "                 strides = 1,         # Step size for sliding the kernel across the input (1 pixel at a time).\n",
        "                 padding = 'same',    # 'Same' ensures that the output feature map has the same dimensions as the input by padding zeros around the input.\n",
        "                input_shape = (256,256,3) # Input image shape\n",
        "                ))\n",
        "\n",
        "model.add(Activation('relu'))  # Activation function\n",
        "model.add(BatchNormalization())\n",
        "model.add(MaxPooling2D(pool_size=(2,2), padding='same'))\n",
        "model.add(Dropout(0.2))\n",
        "\n",
        "model.add(Conv2D(64, (5,5), padding='same'))\n",
        "model.add(Activation('relu'))\n",
        "model.add(BatchNormalization())\n",
        "model.add(MaxPooling2D(pool_size=(2,2), padding='same'))\n",
        "model.add(Dropout(0.2))\n",
        "\n",
        "model.add(Conv2D(128, (3,3), padding='same'))\n",
        "model.add(Activation('relu'))\n",
        "model.add(BatchNormalization())\n",
        "model.add(MaxPooling2D(pool_size=(2,2), padding='same'))\n",
        "model.add(Dropout(0.3))\n",
        "\n",
        "model.add(Conv2D(256, (5,5), padding='same'))\n",
        "model.add(Activation('relu'))\n",
        "model.add(BatchNormalization())\n",
        "model.add(MaxPooling2D(pool_size=(2,2), padding='same'))\n",
        "model.add(Dropout(0.3))\n",
        "\n",
        "model.add(Conv2D(512, (3,3), padding='same'))\n",
        "model.add(Activation('relu'))\n",
        "model.add(BatchNormalization())\n",
        "model.add(MaxPooling2D(pool_size=(2,2), padding='same'))\n",
        "model.add(Dropout(0.3))\n",
        "\n",
        "# Flattening tensors\n",
        "model.add(Flatten())\n",
        "\n",
        "# Fully-Connected Layers\n",
        "model.add(Dense(2048))\n",
        "model.add(Activation('relu'))\n",
        "model.add(Dropout(0.5))\n",
        "\n",
        "# Output Layer\n",
        "model.add(Dense(3, activation='softmax'))  # Classification layer\n"
      ],
      "metadata": {
        "id": "ibINWL6G1_3a"
      },
      "id": "ibINWL6G1_3a",
      "execution_count": 27,
      "outputs": []
    },
    {
      "cell_type": "code",
      "execution_count": 28,
      "id": "7ef7f833-ba88-4627-aaf0-0792465f0937",
      "metadata": {
        "id": "7ef7f833-ba88-4627-aaf0-0792465f0937"
      },
      "outputs": [],
      "source": [
        "# Compiling model\n",
        "\n",
        "from keras.optimizers import RMSprop\n",
        "\n",
        "optimizer = RMSprop(learning_rate=0.001)  # Or whatever optimizer you're using\n",
        "model.compile(optimizer=optimizer, loss='categorical_crossentropy', metrics=['accuracy'])\n"
      ]
    },
    {
      "cell_type": "code",
      "execution_count": 32,
      "id": "e2822b25-a3a3-4462-a69b-524757c01db7",
      "metadata": {
        "id": "e2822b25-a3a3-4462-a69b-524757c01db7"
      },
      "outputs": [],
      "source": [
        "\n",
        "\n",
        "# Defining an Early Stopping and Model Checkpoints\n",
        "early_stopping = tf.keras.callbacks.EarlyStopping(\n",
        "    monitor='val_accuracy',\n",
        "    patience=5, # Metric to monitor (e.g., validation loss)\n",
        "    mode='max',                 # Mode to monitor ('min' for loss, 'max' for accuracy)\n",
        "    restore_best_weights=True    # Restore model weights from the epoch with the best value of the monitored metric\n",
        ")\n",
        "checkpoint = tf.keras.callbacks.ModelCheckpoint(\n",
        "    filepath='best_model.keras',     # Path where the model file will be saved\n",
        "    monitor='val_accuracy',           # Metric to monitor (e.g., validation loss)\n",
        "    save_best_only=True,           # Save only the best model based on the monitored                      # Verbosity mode (1 for progress messages)\n",
        ")\n"
      ]
    },
    {
      "cell_type": "code",
      "execution_count": 34,
      "id": "597ba0ed-3444-47a0-92ba-db3c1459c127",
      "metadata": {
        "colab": {
          "base_uri": "https://localhost:8080/"
        },
        "id": "597ba0ed-3444-47a0-92ba-db3c1459c127",
        "outputId": "7d1bcb98-bc97-47a1-8745-9ff446c3e2e9"
      },
      "outputs": [
        {
          "output_type": "stream",
          "name": "stdout",
          "text": [
            "Epoch 1/50\n",
            "\u001b[1m83/83\u001b[0m \u001b[32m━━━━━━━━━━━━━━━━━━━━\u001b[0m\u001b[37m\u001b[0m \u001b[1m63s\u001b[0m 755ms/step - accuracy: 0.8384 - loss: 0.7194 - val_accuracy: 0.9000 - val_loss: 1.1457\n",
            "Epoch 2/50\n",
            "\u001b[1m83/83\u001b[0m \u001b[32m━━━━━━━━━━━━━━━━━━━━\u001b[0m\u001b[37m\u001b[0m \u001b[1m59s\u001b[0m 714ms/step - accuracy: 0.8865 - loss: 0.7805 - val_accuracy: 0.9167 - val_loss: 0.3589\n",
            "Epoch 3/50\n",
            "\u001b[1m83/83\u001b[0m \u001b[32m━━━━━━━━━━━━━━━━━━━━\u001b[0m\u001b[37m\u001b[0m \u001b[1m61s\u001b[0m 737ms/step - accuracy: 0.8742 - loss: 0.6856 - val_accuracy: 0.6333 - val_loss: 0.6214\n",
            "Epoch 4/50\n",
            "\u001b[1m83/83\u001b[0m \u001b[32m━━━━━━━━━━━━━━━━━━━━\u001b[0m\u001b[37m\u001b[0m \u001b[1m64s\u001b[0m 769ms/step - accuracy: 0.8514 - loss: 2.1768 - val_accuracy: 0.8667 - val_loss: 1.1831\n",
            "Epoch 5/50\n",
            "\u001b[1m83/83\u001b[0m \u001b[32m━━━━━━━━━━━━━━━━━━━━\u001b[0m\u001b[37m\u001b[0m \u001b[1m61s\u001b[0m 735ms/step - accuracy: 0.8611 - loss: 0.9192 - val_accuracy: 0.7167 - val_loss: 2.1741\n"
          ]
        }
      ],
      "source": [
        "history = model.fit(\n",
        "    train,                           # Training dataset\n",
        "    validation_data=validation,      # Validation dataset\n",
        "    epochs=50,                       # Number of epochs\n",
        "    callbacks=[early_stopping,checkpoint]\n",
        ")\n",
        "\n"
      ]
    },
    {
      "cell_type": "code",
      "source": [
        "# After training, manually save the model in .h5 format\n",
        "tf.keras.models.save_model(model, 'best_model.keras')\n"
      ],
      "metadata": {
        "id": "UT5NgeglGYHq"
      },
      "id": "UT5NgeglGYHq",
      "execution_count": 40,
      "outputs": []
    },
    {
      "cell_type": "code",
      "source": [
        "model_1 = tf.keras.models.load_model('best_model.keras')  # or 'best_model.keras'\n"
      ],
      "metadata": {
        "id": "81YZPWwGtunN"
      },
      "id": "81YZPWwGtunN",
      "execution_count": 42,
      "outputs": []
    },
    {
      "cell_type": "code",
      "source": [
        "model_1.predict(test)"
      ],
      "metadata": {
        "colab": {
          "base_uri": "https://localhost:8080/"
        },
        "id": "DVPoqn2ltpX4",
        "outputId": "133a7eaf-97e1-4555-8f7a-8f4403fc49d3"
      },
      "id": "DVPoqn2ltpX4",
      "execution_count": 43,
      "outputs": [
        {
          "output_type": "stream",
          "name": "stdout",
          "text": [
            "\u001b[1m10/10\u001b[0m \u001b[32m━━━━━━━━━━━━━━━━━━━━\u001b[0m\u001b[37m\u001b[0m \u001b[1m6s\u001b[0m 592ms/step\n"
          ]
        },
        {
          "output_type": "execute_result",
          "data": {
            "text/plain": [
              "array([[3.04710881e-07, 9.99650955e-01, 3.48742440e-04],\n",
              "       [3.40158812e-09, 1.00000000e+00, 1.71613723e-10],\n",
              "       [1.00000000e+00, 1.18986167e-20, 9.47157070e-15],\n",
              "       [0.00000000e+00, 0.00000000e+00, 1.00000000e+00],\n",
              "       [0.00000000e+00, 0.00000000e+00, 1.00000000e+00],\n",
              "       [7.28952330e-07, 9.99999166e-01, 1.04603536e-07],\n",
              "       [1.00000000e+00, 0.00000000e+00, 2.18345885e-38],\n",
              "       [3.04485187e-02, 9.69235361e-01, 3.16099758e-04],\n",
              "       [3.36413994e-03, 9.72845316e-01, 2.37905644e-02],\n",
              "       [9.99999881e-01, 1.56513996e-37, 7.69878881e-08],\n",
              "       [1.30405696e-03, 9.98644531e-01, 5.14770909e-05],\n",
              "       [1.00000000e+00, 3.75300890e-33, 7.99677245e-20],\n",
              "       [7.99424648e-01, 1.98638231e-01, 1.93717564e-03],\n",
              "       [4.89866704e-01, 4.95537937e-01, 1.45953679e-02],\n",
              "       [0.00000000e+00, 0.00000000e+00, 1.00000000e+00],\n",
              "       [1.00146608e-04, 9.99897242e-01, 2.64937626e-06],\n",
              "       [1.13450681e-22, 1.99954546e-24, 1.00000000e+00],\n",
              "       [0.00000000e+00, 0.00000000e+00, 1.00000000e+00],\n",
              "       [3.49645887e-07, 9.99999523e-01, 6.76980960e-08],\n",
              "       [8.15959567e-09, 9.99999881e-01, 7.08633081e-08],\n",
              "       [1.52533612e-04, 9.99846816e-01, 5.82111284e-07],\n",
              "       [3.23605320e-07, 9.99999642e-01, 6.28628150e-10],\n",
              "       [0.00000000e+00, 0.00000000e+00, 1.00000000e+00],\n",
              "       [1.00000000e+00, 7.93339725e-26, 2.32439220e-18],\n",
              "       [4.51125491e-25, 0.00000000e+00, 1.00000000e+00],\n",
              "       [8.90891254e-01, 9.99877453e-02, 9.12099797e-03],\n",
              "       [2.85480545e-11, 1.00000000e+00, 1.05281596e-14],\n",
              "       [1.00000000e+00, 1.47279353e-23, 4.05268741e-14],\n",
              "       [0.00000000e+00, 0.00000000e+00, 1.00000000e+00],\n",
              "       [8.12652171e-01, 1.66167289e-01, 2.11805068e-02],\n",
              "       [7.96393896e-24, 0.00000000e+00, 1.00000000e+00],\n",
              "       [7.35225454e-02, 9.24641371e-01, 1.83614460e-03],\n",
              "       [5.37022970e-05, 9.99945998e-01, 1.87151585e-07],\n",
              "       [1.01194286e-03, 9.98931825e-01, 5.62562927e-05],\n",
              "       [3.20978272e-10, 1.00000000e+00, 3.35798160e-11],\n",
              "       [0.00000000e+00, 0.00000000e+00, 1.00000000e+00],\n",
              "       [0.00000000e+00, 0.00000000e+00, 1.00000000e+00],\n",
              "       [5.14266467e-05, 9.39610779e-01, 6.03378080e-02],\n",
              "       [7.04349577e-01, 2.60627657e-01, 3.50227691e-02],\n",
              "       [9.71717611e-02, 3.40608716e-01, 5.62219560e-01],\n",
              "       [6.74241222e-04, 9.99126494e-01, 1.99280315e-04],\n",
              "       [0.00000000e+00, 0.00000000e+00, 1.00000000e+00],\n",
              "       [0.00000000e+00, 0.00000000e+00, 1.00000000e+00],\n",
              "       [0.00000000e+00, 0.00000000e+00, 1.00000000e+00],\n",
              "       [9.99968886e-01, 3.11488147e-05, 1.00283074e-10],\n",
              "       [0.00000000e+00, 0.00000000e+00, 1.00000000e+00],\n",
              "       [1.00000000e+00, 5.96500150e-12, 2.53343160e-08],\n",
              "       [9.51277137e-01, 4.76296768e-02, 1.09324011e-03],\n",
              "       [1.00000000e+00, 2.01494935e-26, 1.37109646e-19],\n",
              "       [5.91290742e-03, 9.93769586e-01, 3.17464437e-04],\n",
              "       [2.28764366e-30, 0.00000000e+00, 1.00000000e+00],\n",
              "       [9.99982595e-01, 1.71184874e-05, 1.96238034e-07],\n",
              "       [1.00000000e+00, 2.98387270e-18, 2.75919895e-11],\n",
              "       [1.22774875e-08, 2.15643585e-01, 7.84356356e-01],\n",
              "       [6.22681236e-16, 1.00000000e+00, 3.62927261e-22],\n",
              "       [0.00000000e+00, 0.00000000e+00, 1.00000000e+00],\n",
              "       [0.00000000e+00, 0.00000000e+00, 1.00000000e+00],\n",
              "       [7.23725258e-09, 9.99992490e-01, 7.54266421e-06],\n",
              "       [9.77370620e-01, 2.25031935e-02, 1.26153958e-04],\n",
              "       [1.77385324e-08, 1.00000000e+00, 6.41419426e-14],\n",
              "       [6.52893796e-04, 9.99345005e-01, 2.10190160e-06],\n",
              "       [1.00000000e+00, 7.21969706e-10, 2.00197636e-09],\n",
              "       [9.39533174e-01, 5.96194081e-02, 8.47365474e-04],\n",
              "       [8.79699757e-10, 1.00000000e+00, 1.63526559e-09],\n",
              "       [1.38561428e-01, 8.25179577e-01, 3.62589918e-02],\n",
              "       [2.04203591e-01, 7.92832017e-01, 2.96441372e-03],\n",
              "       [7.97193245e-09, 1.00000000e+00, 1.42045392e-12],\n",
              "       [2.95669543e-05, 9.97139096e-01, 2.83129700e-03],\n",
              "       [0.00000000e+00, 0.00000000e+00, 1.00000000e+00],\n",
              "       [4.12912996e-05, 9.99956608e-01, 2.13737007e-06],\n",
              "       [0.00000000e+00, 0.00000000e+00, 1.00000000e+00],\n",
              "       [9.99998808e-01, 1.17061961e-06, 1.12254039e-10],\n",
              "       [0.00000000e+00, 0.00000000e+00, 1.00000000e+00],\n",
              "       [1.00000000e+00, 1.42469401e-32, 2.77634319e-20],\n",
              "       [9.99999762e-01, 1.76020841e-17, 2.94414036e-07],\n",
              "       [3.44072841e-02, 9.52113986e-01, 1.34786488e-02],\n",
              "       [0.00000000e+00, 0.00000000e+00, 1.00000000e+00],\n",
              "       [8.03045452e-08, 9.99993205e-01, 6.71400403e-06],\n",
              "       [2.80272907e-08, 1.00000000e+00, 1.52771917e-09],\n",
              "       [1.49005217e-08, 1.00000000e+00, 4.56944260e-09],\n",
              "       [8.40980411e-02, 8.57742577e-07, 9.15901065e-01],\n",
              "       [0.00000000e+00, 0.00000000e+00, 1.00000000e+00],\n",
              "       [1.00000000e+00, 9.76195268e-29, 2.13378449e-21],\n",
              "       [6.76211834e-01, 3.23212892e-01, 5.75214042e-04],\n",
              "       [0.00000000e+00, 0.00000000e+00, 1.00000000e+00],\n",
              "       [7.41719078e-13, 0.00000000e+00, 1.00000000e+00],\n",
              "       [6.20654173e-05, 9.99928594e-01, 9.35431672e-06],\n",
              "       [1.73712875e-17, 9.48083071e-29, 1.00000000e+00],\n",
              "       [0.00000000e+00, 0.00000000e+00, 1.00000000e+00],\n",
              "       [0.00000000e+00, 0.00000000e+00, 1.00000000e+00],\n",
              "       [9.99992490e-01, 6.23441474e-06, 1.32685693e-06],\n",
              "       [5.17525130e-20, 1.00000000e+00, 1.63577276e-22],\n",
              "       [0.00000000e+00, 0.00000000e+00, 1.00000000e+00],\n",
              "       [4.50121522e-01, 5.46761334e-01, 3.11712152e-03],\n",
              "       [9.65513825e-01, 3.39520797e-02, 5.34098712e-04],\n",
              "       [2.37866357e-01, 7.54330277e-01, 7.80330878e-03],\n",
              "       [1.82481543e-07, 9.47245181e-01, 5.27546518e-02],\n",
              "       [9.89240834e-14, 1.00000000e+00, 9.68573095e-13],\n",
              "       [1.33945137e-01, 7.48702849e-04, 8.65306139e-01],\n",
              "       [1.61733046e-01, 1.69425007e-08, 8.38266969e-01],\n",
              "       [4.99580316e-02, 9.47979271e-01, 2.06273678e-03],\n",
              "       [1.03206644e-02, 9.88038063e-01, 1.64134905e-03],\n",
              "       [0.00000000e+00, 0.00000000e+00, 1.00000000e+00],\n",
              "       [1.00000000e+00, 0.00000000e+00, 8.47143048e-38],\n",
              "       [1.78223983e-12, 1.00000000e+00, 1.06355381e-13],\n",
              "       [0.00000000e+00, 0.00000000e+00, 1.00000000e+00],\n",
              "       [2.06398975e-28, 0.00000000e+00, 1.00000000e+00],\n",
              "       [0.00000000e+00, 0.00000000e+00, 1.00000000e+00],\n",
              "       [2.03458101e-11, 9.99888301e-01, 1.11647547e-04],\n",
              "       [1.00000000e+00, 1.53378473e-11, 1.06622328e-12],\n",
              "       [5.65661073e-01, 4.29806501e-01, 4.53244895e-03],\n",
              "       [0.00000000e+00, 0.00000000e+00, 1.00000000e+00],\n",
              "       [0.00000000e+00, 0.00000000e+00, 1.00000000e+00],\n",
              "       [6.19150740e-08, 9.99982476e-01, 1.74528541e-05],\n",
              "       [4.78309084e-05, 9.99951601e-01, 6.50953268e-07],\n",
              "       [2.26856396e-03, 9.97718096e-01, 1.33250114e-05],\n",
              "       [0.00000000e+00, 0.00000000e+00, 1.00000000e+00],\n",
              "       [8.23247807e-12, 1.00000000e+00, 9.01090935e-09],\n",
              "       [4.74496752e-01, 5.08788764e-01, 1.67145003e-02],\n",
              "       [3.21023322e-07, 9.99999642e-01, 5.77491566e-09],\n",
              "       [0.00000000e+00, 0.00000000e+00, 1.00000000e+00],\n",
              "       [9.99718964e-01, 2.54242652e-04, 2.68634813e-05],\n",
              "       [0.00000000e+00, 0.00000000e+00, 1.00000000e+00],\n",
              "       [1.00000000e+00, 1.44626551e-29, 1.55876047e-20],\n",
              "       [0.00000000e+00, 0.00000000e+00, 1.00000000e+00],\n",
              "       [1.50948072e-08, 1.00000000e+00, 1.24340330e-10],\n",
              "       [1.00000000e+00, 9.08121806e-28, 4.83619541e-18],\n",
              "       [8.97406771e-09, 1.00000000e+00, 2.39300333e-11],\n",
              "       [2.58041832e-09, 1.00000000e+00, 7.17351803e-11],\n",
              "       [1.00000000e+00, 0.00000000e+00, 3.19139502e-29],\n",
              "       [8.14966261e-01, 1.44848749e-01, 4.01850082e-02],\n",
              "       [0.00000000e+00, 0.00000000e+00, 1.00000000e+00],\n",
              "       [1.00000000e+00, 0.00000000e+00, 0.00000000e+00],\n",
              "       [0.00000000e+00, 0.00000000e+00, 1.00000000e+00],\n",
              "       [9.93020594e-01, 2.72160023e-03, 4.25779633e-03],\n",
              "       [2.35710427e-01, 7.53925443e-01, 1.03640873e-02],\n",
              "       [3.89418840e-01, 1.82994597e-13, 6.10581100e-01],\n",
              "       [2.55399790e-08, 1.00000000e+00, 2.20257926e-11],\n",
              "       [0.00000000e+00, 0.00000000e+00, 1.00000000e+00],\n",
              "       [1.00000000e+00, 0.00000000e+00, 2.55508233e-36],\n",
              "       [0.00000000e+00, 0.00000000e+00, 1.00000000e+00],\n",
              "       [0.00000000e+00, 0.00000000e+00, 1.00000000e+00],\n",
              "       [2.30952756e-24, 0.00000000e+00, 1.00000000e+00],\n",
              "       [4.93609130e-01, 4.91373837e-01, 1.50170429e-02],\n",
              "       [4.54040825e-01, 5.44672072e-01, 1.28709490e-03],\n",
              "       [0.00000000e+00, 0.00000000e+00, 1.00000000e+00],\n",
              "       [0.00000000e+00, 0.00000000e+00, 1.00000000e+00],\n",
              "       [1.00000000e+00, 7.71646691e-10, 8.19126633e-09],\n",
              "       [7.72839427e-01, 1.60119876e-01, 6.70406744e-02],\n",
              "       [0.00000000e+00, 0.00000000e+00, 1.00000000e+00]], dtype=float32)"
            ]
          },
          "metadata": {},
          "execution_count": 43
        }
      ]
    },
    {
      "cell_type": "code",
      "source": [
        "\n",
        "from tensorflow.keras.preprocessing import image\n",
        "import numpy as np\n",
        "\n",
        "# Load the trained model\n",
        "model = tf.keras.models.load_model('best_model.keras')\n",
        "\n",
        "# Load and preprocess the image\n",
        "img_path = '/content/drive/MyDrive/Datasets/Plant dieases/Test/Test/Healthy/8def4d91382175c3.jpg'  # Replace with your image path\n",
        "img = image.load_img(img_path, target_size=(256, 256))  # Match your model's input size\n",
        "img_array = image.img_to_array(img)\n",
        "img_array = np.expand_dims(img_array, axis=0)\n",
        "img_array = img_array / 255.0  # Apply the same normalization\n",
        "\n",
        "\n"
      ],
      "metadata": {
        "id": "Qt6WyTVzuW9E"
      },
      "id": "Qt6WyTVzuW9E",
      "execution_count": 49,
      "outputs": []
    },
    {
      "cell_type": "code",
      "source": [
        "# Define class names\n",
        "class_names = ['Healthy', 'Powdery', 'Rust']\n",
        "\n",
        "# Predict the class index\n",
        "predictions = model.predict(img_array)\n",
        "predicted_class_index = np.argmax(predictions, axis=1)\n",
        "\n",
        "# Get the corresponding class name\n",
        "predicted_class_name = class_names[predicted_class_index[0]]  # Use [0] to get the single value from array\n",
        "\n",
        "# Print the predicted class name\n",
        "print(\"Predicted Class:\", predicted_class_name)\n"
      ],
      "metadata": {
        "colab": {
          "base_uri": "https://localhost:8080/"
        },
        "id": "UbAlnabDuXJo",
        "outputId": "88103f96-306d-4769-92c9-4ad3149efede"
      },
      "id": "UbAlnabDuXJo",
      "execution_count": 50,
      "outputs": [
        {
          "output_type": "stream",
          "name": "stderr",
          "text": [
            "WARNING:tensorflow:6 out of the last 14 calls to <function TensorFlowTrainer.make_predict_function.<locals>.one_step_on_data_distributed at 0x7ae9f5851900> triggered tf.function retracing. Tracing is expensive and the excessive number of tracings could be due to (1) creating @tf.function repeatedly in a loop, (2) passing tensors with different shapes, (3) passing Python objects instead of tensors. For (1), please define your @tf.function outside of the loop. For (2), @tf.function has reduce_retracing=True option that can avoid unnecessary retracing. For (3), please refer to https://www.tensorflow.org/guide/function#controlling_retracing and https://www.tensorflow.org/api_docs/python/tf/function for  more details.\n"
          ]
        },
        {
          "output_type": "stream",
          "name": "stdout",
          "text": [
            "\u001b[1m1/1\u001b[0m \u001b[32m━━━━━━━━━━━━━━━━━━━━\u001b[0m\u001b[37m\u001b[0m \u001b[1m0s\u001b[0m 180ms/step\n",
            "Predicted Class: Healthy\n"
          ]
        }
      ]
    },
    {
      "cell_type": "code",
      "source": [],
      "metadata": {
        "id": "K1ZV0ntBuXQE"
      },
      "id": "K1ZV0ntBuXQE",
      "execution_count": null,
      "outputs": []
    },
    {
      "cell_type": "code",
      "source": [],
      "metadata": {
        "id": "VEtTSQGEuXTj"
      },
      "id": "VEtTSQGEuXTj",
      "execution_count": null,
      "outputs": []
    }
  ],
  "metadata": {
    "kernelspec": {
      "display_name": "Python 3",
      "name": "python3"
    },
    "language_info": {
      "codemirror_mode": {
        "name": "ipython",
        "version": 3
      },
      "file_extension": ".py",
      "mimetype": "text/x-python",
      "name": "python",
      "nbconvert_exporter": "python",
      "pygments_lexer": "ipython3",
      "version": "3.12.4"
    },
    "colab": {
      "provenance": [],
      "gpuType": "T4"
    },
    "accelerator": "GPU"
  },
  "nbformat": 4,
  "nbformat_minor": 5
}